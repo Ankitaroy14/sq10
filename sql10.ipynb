{
 "cells": [
  {
   "cell_type": "code",
   "execution_count": null,
   "id": "7aefa330",
   "metadata": {},
   "outputs": [],
   "source": [
    "1) Write an SQL query to determine the 5th highest salary without using TOP or limit\n",
    "method.\n",
    "\n",
    "SELECT Salary\n",
    "FROM Worker W1\n",
    "WHERE n-1 = (\n",
    " SELECT COUNT( DISTINCT ( W2.Salary ) )\n",
    " FROM Worker W2\n",
    " WHERE W2.Salary >= W1.Salary\n",
    ");\n",
    "\n",
    "\n",
    "2) Write an SQL query to fetch the list of employees with the same salary.\n",
    "\n",
    "SELECT Name\n",
    "FROM table1 \n",
    "WHERE Salary IN (\n",
    "    SELECT Salary\n",
    "    FROM table1\n",
    "    GROUP BY Salary\n",
    "    HAVING COUNT(*) > 1\n",
    ")"
   ]
  }
 ],
 "metadata": {
  "kernelspec": {
   "display_name": "Python 3 (ipykernel)",
   "language": "python",
   "name": "python3"
  },
  "language_info": {
   "codemirror_mode": {
    "name": "ipython",
    "version": 3
   },
   "file_extension": ".py",
   "mimetype": "text/x-python",
   "name": "python",
   "nbconvert_exporter": "python",
   "pygments_lexer": "ipython3",
   "version": "3.9.7"
  }
 },
 "nbformat": 4,
 "nbformat_minor": 5
}
